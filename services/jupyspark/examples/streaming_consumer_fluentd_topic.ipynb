{
 "cells": [
  {
   "cell_type": "code",
   "execution_count": null,
   "id": "3e99674e-40c5-4291-85b3-ab6585ba1165",
   "metadata": {},
   "outputs": [
    {
     "name": "stdout",
     "output_type": "stream",
     "text": [
      "\n",
      "---\n",
      "VASTDB_ENDPOINT=http://172.200.204.2:80\n",
      "VASTDB_ACCESS_KEY=****QXN5\n",
      "VASTDB_SECRET_KEY=****oLGr\n",
      "VASTDB_FLUENTD_BUCKET=csnow-db\n",
      "VASTDB_FLUENTD_SCHEMA=fluentd-ocsf-logs\n",
      "VASTDB_FLUENTD_TABLE_PREFIX=ocsf_\n",
      "---\n",
      "VAST_KAFKA_BROKER=172.200.204.1:9092\n",
      "topic=fluentd-events\n",
      "\n",
      "Spark successfully loaded\n",
      "\n",
      "Table prefix: `ndb`.`csnow-db`.`fluentd-ocsf-logs`.`ocsf_`\n",
      "\n",
      "Starting FluentD OCSF log streaming job to VastDB...\n",
      "This will dynamically create VastDB tables for each OCSF event class (security_finding, authentication, etc.)\n",
      "Tables will be created in: ndb.csnow-db.fluentd-ocsf-logs\n",
      "All timestamp fields will be properly converted to TimestampType for optimal query performance.\n",
      "OCSF event classes will be automatically detected and routed to appropriate tables.\n",
      "Last update: 18:46:10 | Batch 1: 1 records | Total messages: 3 | Total VastDB rows: 5 | OCSF Classes: 1 (2004_security_finding) | Tables: [2004_security_finding: 5]     "
     ]
    }
   ],
   "source": [
    "%run lib/streaming_consumer_fluentd_topic.py"
   ]
  },
  {
   "cell_type": "code",
   "execution_count": null,
   "id": "60954436-f494-4027-b484-9009f92e5ca9",
   "metadata": {},
   "outputs": [],
   "source": []
  }
 ],
 "metadata": {
  "kernelspec": {
   "display_name": "Python 3 (ipykernel)",
   "language": "python",
   "name": "python3"
  },
  "language_info": {
   "codemirror_mode": {
    "name": "ipython",
    "version": 3
   },
   "file_extension": ".py",
   "mimetype": "text/x-python",
   "name": "python",
   "nbconvert_exporter": "python",
   "pygments_lexer": "ipython3",
   "version": "3.11.10"
  }
 },
 "nbformat": 4,
 "nbformat_minor": 5
}
