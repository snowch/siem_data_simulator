{
 "cells": [
  {
   "cell_type": "code",
   "execution_count": 1,
   "id": "6edd3f84-f019-4848-a92b-485166515d85",
   "metadata": {},
   "outputs": [
    {
     "name": "stdout",
     "output_type": "stream",
     "text": [
      "\n",
      "---\n",
      "VASTDB_ENDPOINT=http://172.200.204.2:80\n",
      "VASTDB_ACCESS_KEY==****QXN5\n",
      "VASTDB_SECRET_KEY=****oLGr\n",
      "VASTDB_SIEM_BUCKET=csnow-db\n",
      "VASTDB_SIEM_SCHEMA=zeek-live-logs\n",
      "VASTDB_SIEM_TABLE_PREFIX=zeek_\n",
      "---\n",
      "VAST_KAFKA_BROKER=None\n",
      "topic=zeek-live-logs\n",
      "\n",
      "Spark successfully loaded\n",
      "\n",
      "\n",
      "Starting Zeek log streaming job to VastDB...\n",
      "This will dynamically create VastDB tables for each Zeek log type (conn, analyzer, weird, etc.)\n",
      "Tables will be created in: ndb.csnow-db.zeek-live-logs\n",
      "All timestamp fields will be properly converted to TimestampType for optimal query performance.\n",
      "Last update: 18:27:14 | Batch 0: 0 records | Total messages: 0 | Total VastDB rows: 0 | Log types: 0 () | Tables: [No tables yet]     Error during awaitTermination: [STREAM_FAILED] Query [id = 34c324b5-2de2-4a08-b192-6b75c536ad13, runId = 61bd51d2-3a6e-46f6-b173-187f02d47d43] terminated with exception: Failed to create new KafkaAdminClient\n",
      "\n",
      "Final status:\n",
      "VastDB Zeek streaming completed. Goodbye!\n"
     ]
    }
   ],
   "source": [
    "%run streaming_consumer_zeek_topic.py"
   ]
  },
  {
   "cell_type": "code",
   "execution_count": null,
   "id": "8dbd2079-6804-44e8-9c24-2e9ee49d8af5",
   "metadata": {},
   "outputs": [],
   "source": []
  }
 ],
 "metadata": {
  "kernelspec": {
   "display_name": "Python 3 (ipykernel)",
   "language": "python",
   "name": "python3"
  },
  "language_info": {
   "codemirror_mode": {
    "name": "ipython",
    "version": 3
   },
   "file_extension": ".py",
   "mimetype": "text/x-python",
   "name": "python",
   "nbconvert_exporter": "python",
   "pygments_lexer": "ipython3",
   "version": "3.11.10"
  }
 },
 "nbformat": 4,
 "nbformat_minor": 5
}
