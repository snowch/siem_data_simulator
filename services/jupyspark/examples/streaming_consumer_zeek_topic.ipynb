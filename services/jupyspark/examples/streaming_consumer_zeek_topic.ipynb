{
 "cells": [
  {
   "cell_type": "code",
   "execution_count": null,
   "id": "6edd3f84-f019-4848-a92b-485166515d85",
   "metadata": {},
   "outputs": [
    {
     "name": "stdout",
     "output_type": "stream",
     "text": [
      "\n",
      "---\n",
      "VASTDB_ENDPOINT=http://172.200.204.2:80\n",
      "VASTDB_ACCESS_KEY=****QXN5\n",
      "VASTDB_SECRET_KEY=****oLGr\n",
      "VASTDB_ZEEK_BUCKET=csnow-db\n",
      "VASTDB_ZEEK_SCHEMA=zeek-live-logs\n",
      "VASTDB_ZEEK_TABLE_PREFIX=\n",
      "---\n",
      "KAFKA_BROKER=172.200.204.1:9092\n",
      "topic=zeek-live-logs\n",
      "\n",
      "Spark successfully loaded\n",
      "\n",
      "Table prefix: `ndb`.`csnow-db`.`zeek-live-logs`.``\n",
      "\n",
      "Starting Zeek log streaming job to VastDB...\n",
      "This will dynamically create VastDB tables for each Zeek log type (conn, http, dns, ssl, etc.)\n",
      "Tables will be created in: ndb.csnow-db.zeek-live-logs\n",
      "All timestamp fields will be properly converted to TimestampType for optimal query performance.\n",
      "Zeek log types will be automatically detected and routed to appropriate tables.\n",
      "Last update: 19:56:34 | Batch 2213: 228 records | Total messages: 19576 | Total VastDB rows: 4792137 | Log types: 8 (analyzer, conn, dns, ftp, http, notice, ssh, weird) | Tables: [http: 436551, conn: 2356615, ftp: 51020, dns: 1898387, analyzer: 46395, weird: 2411, ssh: 712, notice: 46]     "
     ]
    }
   ],
   "source": [
    "%run scripts/streaming_consumer_zeek_topic.py"
   ]
  },
  {
   "cell_type": "code",
   "execution_count": null,
   "id": "8dbd2079-6804-44e8-9c24-2e9ee49d8af5",
   "metadata": {},
   "outputs": [],
   "source": []
  }
 ],
 "metadata": {
  "kernelspec": {
   "display_name": "Python 3 (ipykernel)",
   "language": "python",
   "name": "python3"
  },
  "language_info": {
   "codemirror_mode": {
    "name": "ipython",
    "version": 3
   },
   "file_extension": ".py",
   "mimetype": "text/x-python",
   "name": "python",
   "nbconvert_exporter": "python",
   "pygments_lexer": "ipython3",
   "version": "3.11.10"
  }
 },
 "nbformat": 4,
 "nbformat_minor": 5
}
