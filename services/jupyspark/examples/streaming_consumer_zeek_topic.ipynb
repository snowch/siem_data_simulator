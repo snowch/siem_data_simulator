{
 "cells": [
  {
   "cell_type": "code",
   "execution_count": null,
   "id": "6edd3f84-f019-4848-a92b-485166515d85",
   "metadata": {},
   "outputs": [
    {
     "name": "stdout",
     "output_type": "stream",
     "text": [
      "\n",
      "---\n",
      "VASTDB_ENDPOINT=http://172.200.204.2:80\n",
      "VASTDB_ACCESS_KEY=****QXN5\n",
      "VASTDB_SECRET_KEY=****oLGr\n",
      "VASTDB_ZEEK_BUCKET=csnow-db\n",
      "VASTDB_ZEEK_SCHEMA=zeek-live-logs\n",
      "VASTDB_ZEEK_TABLE_PREFIX=\n",
      "---\n",
      "KAFKA_BROKER=172.200.204.1:9092\n",
      "topic=zeek-live-logs\n",
      "\n",
      "Spark successfully loaded\n",
      "\n",
      "Table prefix: `ndb`.`csnow-db`.`zeek-live-logs`.``\n",
      "\n",
      "Starting Zeek log streaming job to VastDB...\n",
      "This will dynamically create VastDB tables for each Zeek log type (conn, http, dns, ssl, etc.)\n",
      "Tables will be created in: ndb.csnow-db.zeek-live-logs\n",
      "All timestamp fields will be properly converted to TimestampType for optimal query performance.\n",
      "Zeek log types will be automatically detected and routed to appropriate tables.\n",
      "Last update: 10:42:19 | Batch 3990: 1 records | Total messages: 641700 | Total VastDB rows: 4311055 | Log types: 11 (analyzer, conn, dns, ftp, http, known_hosts, known_services, notice, reporter, ssh, weird) | Tables: [ftp: 45795, analyzer: 41141, weird: 1078, http: 392600, dns: 1696191, conn: 2133054, known_hosts: 333, known_services: 378, ssh: 230, notice: 15, reporter: 240]      "
     ]
    }
   ],
   "source": [
    "%run lib/streaming_consumer_zeek_topic.py"
   ]
  },
  {
   "cell_type": "code",
   "execution_count": null,
   "id": "8dbd2079-6804-44e8-9c24-2e9ee49d8af5",
   "metadata": {},
   "outputs": [],
   "source": []
  }
 ],
 "metadata": {
  "kernelspec": {
   "display_name": "Python 3 (ipykernel)",
   "language": "python",
   "name": "python3"
  },
  "language_info": {
   "codemirror_mode": {
    "name": "ipython",
    "version": 3
   },
   "file_extension": ".py",
   "mimetype": "text/x-python",
   "name": "python",
   "nbconvert_exporter": "python",
   "pygments_lexer": "ipython3",
   "version": "3.11.10"
  }
 },
 "nbformat": 4,
 "nbformat_minor": 5
}
